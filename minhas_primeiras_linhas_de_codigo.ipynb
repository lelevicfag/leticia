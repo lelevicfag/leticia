{
  "nbformat": 4,
  "nbformat_minor": 0,
  "metadata": {
    "colab": {
      "provenance": [],
      "authorship_tag": "ABX9TyNoFNQqEqpM4T3h5VuDA2jK",
      "include_colab_link": true
    },
    "kernelspec": {
      "name": "python3",
      "display_name": "Python 3"
    },
    "language_info": {
      "name": "python"
    }
  },
  "cells": [
    {
      "cell_type": "markdown",
      "metadata": {
        "id": "view-in-github",
        "colab_type": "text"
      },
      "source": [
        "<a href=\"https://colab.research.google.com/github/lelevicfag/leticia/blob/main/minhas_primeiras_linhas_de_codigo.ipynb\" target=\"_parent\"><img src=\"https://colab.research.google.com/assets/colab-badge.svg\" alt=\"Open In Colab\"/></a>"
      ]
    },
    {
      "cell_type": "code",
      "execution_count": 1,
      "metadata": {
        "colab": {
          "base_uri": "https://localhost:8080/"
        },
        "id": "0m81CnvRYM_y",
        "outputId": "678f1ed4-90f2-4067-c01d-1151b4696e02"
      },
      "outputs": [
        {
          "output_type": "execute_result",
          "data": {
            "text/plain": [
              "9"
            ]
          },
          "metadata": {},
          "execution_count": 1
        }
      ],
      "source": [
        "2 + 7"
      ]
    },
    {
      "cell_type": "code",
      "source": [
        "9-5"
      ],
      "metadata": {
        "colab": {
          "base_uri": "https://localhost:8080/"
        },
        "id": "kmajyA4laM-O",
        "outputId": "8f8ed778-957c-4889-e12d-7a5bf8c4a61a"
      },
      "execution_count": 2,
      "outputs": [
        {
          "output_type": "execute_result",
          "data": {
            "text/plain": [
              "4"
            ]
          },
          "metadata": {},
          "execution_count": 2
        }
      ]
    },
    {
      "cell_type": "code",
      "source": [
        "7 * 5"
      ],
      "metadata": {
        "colab": {
          "base_uri": "https://localhost:8080/"
        },
        "id": "rVoY-sg2aPQo",
        "outputId": "6d8e24bf-bb45-4290-cf5b-0448603eb88f"
      },
      "execution_count": 3,
      "outputs": [
        {
          "output_type": "execute_result",
          "data": {
            "text/plain": [
              "35"
            ]
          },
          "metadata": {},
          "execution_count": 3
        }
      ]
    },
    {
      "cell_type": "code",
      "source": [
        "9 / 3"
      ],
      "metadata": {
        "colab": {
          "base_uri": "https://localhost:8080/"
        },
        "id": "VqgAHO38aXDE",
        "outputId": "fdd01685-d121-41c7-b455-120b3d1792f5"
      },
      "execution_count": 4,
      "outputs": [
        {
          "output_type": "execute_result",
          "data": {
            "text/plain": [
              "3.0"
            ]
          },
          "metadata": {},
          "execution_count": 4
        }
      ]
    },
    {
      "cell_type": "code",
      "source": [
        "primeira_operaçao = 2258 + 6354"
      ],
      "metadata": {
        "id": "lFfaF_ctbfV7"
      },
      "execution_count": 12,
      "outputs": []
    },
    {
      "cell_type": "code",
      "source": [
        "segunda_operaçao = 8 - 5"
      ],
      "metadata": {
        "id": "qNGCGWB9cQ94"
      },
      "execution_count": 7,
      "outputs": []
    },
    {
      "cell_type": "code",
      "source": [
        "exponencial = 2 ** 3\n",
        "print(exponencial)"
      ],
      "metadata": {
        "colab": {
          "base_uri": "https://localhost:8080/"
        },
        "id": "S5CoS3RmiDKf",
        "outputId": "6d1f665c-c72f-40a1-d605-6f8253b93556"
      },
      "execution_count": 22,
      "outputs": [
        {
          "output_type": "stream",
          "name": "stdout",
          "text": [
            "8\n"
          ]
        }
      ]
    },
    {
      "cell_type": "code",
      "source": [
        "print(primeira_operaçao)"
      ],
      "metadata": {
        "colab": {
          "base_uri": "https://localhost:8080/"
        },
        "id": "JMWn5K5lcfwK",
        "outputId": "40aacc92-be35-436a-e000-bc697b8db4f8"
      },
      "execution_count": 13,
      "outputs": [
        {
          "output_type": "stream",
          "name": "stdout",
          "text": [
            "8612\n"
          ]
        }
      ]
    },
    {
      "cell_type": "code",
      "source": [
        "print(primeira_operaçao * segunda_operaçao)"
      ],
      "metadata": {
        "colab": {
          "base_uri": "https://localhost:8080/"
        },
        "id": "WYtIaEvfdJVR",
        "outputId": "b969bc53-af9b-415f-8336-7ccd97e7f1b4"
      },
      "execution_count": 14,
      "outputs": [
        {
          "output_type": "stream",
          "name": "stdout",
          "text": [
            "25836\n"
          ]
        }
      ]
    },
    {
      "cell_type": "code",
      "source": [
        "print(\"hello world\")"
      ],
      "metadata": {
        "colab": {
          "base_uri": "https://localhost:8080/"
        },
        "id": "taZjeXUcdp9g",
        "outputId": "e2071c45-5fbb-4e93-d438-1c25a7d7d593"
      },
      "execution_count": 15,
      "outputs": [
        {
          "output_type": "stream",
          "name": "stdout",
          "text": [
            "hello world\n"
          ]
        }
      ]
    },
    {
      "cell_type": "code",
      "source": [
        "multiplicaçao = primeira_operaçao * segunda_operaçao"
      ],
      "metadata": {
        "id": "14Drq1h6d94B"
      },
      "execution_count": 16,
      "outputs": []
    },
    {
      "cell_type": "code",
      "source": [
        "print(multiplicaçao)"
      ],
      "metadata": {
        "colab": {
          "base_uri": "https://localhost:8080/"
        },
        "id": "n-TxSQxbeUCE",
        "outputId": "d3ef6673-3192-4499-bf0b-280309217a8f"
      },
      "execution_count": 17,
      "outputs": [
        {
          "output_type": "stream",
          "name": "stdout",
          "text": [
            "25836\n"
          ]
        }
      ]
    },
    {
      "cell_type": "code",
      "source": [
        "print(\"o resultado da multiplicaçao é: \" , multiplicaçao)"
      ],
      "metadata": {
        "colab": {
          "base_uri": "https://localhost:8080/"
        },
        "id": "wdv6yZ6KfBfM",
        "outputId": "b8a300c9-5c28-4e52-e2fe-1c5b44e9f195"
      },
      "execution_count": 18,
      "outputs": [
        {
          "output_type": "stream",
          "name": "stdout",
          "text": [
            "o resultado da multiplicaçao é:  25836\n"
          ]
        }
      ]
    },
    {
      "cell_type": "code",
      "source": [
        "print(f\"o resultado da multiplicaçao é:{multiplicaçao}, que é a multiplicação de {primeira_operaçao} e {segunda_operaçao}\")"
      ],
      "metadata": {
        "colab": {
          "base_uri": "https://localhost:8080/"
        },
        "id": "1cgS45qXgFg9",
        "outputId": "8b8fd5c8-6ecb-451d-a4b0-c4ed4ad7ee93"
      },
      "execution_count": 20,
      "outputs": [
        {
          "output_type": "stream",
          "name": "stdout",
          "text": [
            "o resultado da multiplicaçao é:25836, que é a multiplicação de 8612 e 3\n"
          ]
        }
      ]
    },
    {
      "cell_type": "code",
      "source": [
        "nome1 = input(\"digite seu nome: \")"
      ],
      "metadata": {
        "colab": {
          "base_uri": "https://localhost:8080/"
        },
        "id": "rxEAirwii8FH",
        "outputId": "c0fad17c-c5ee-4f1d-e726-9b25ddaa398d"
      },
      "execution_count": 25,
      "outputs": [
        {
          "name": "stdout",
          "output_type": "stream",
          "text": [
            "digite seu nome: leticia\n"
          ]
        }
      ]
    },
    {
      "cell_type": "code",
      "source": [
        "print(nome1)"
      ],
      "metadata": {
        "colab": {
          "base_uri": "https://localhost:8080/"
        },
        "id": "19q2LD8ujVl6",
        "outputId": "39bcce3b-5868-4182-8e02-3f08e8f8d98f"
      },
      "execution_count": 26,
      "outputs": [
        {
          "output_type": "stream",
          "name": "stdout",
          "text": [
            "leticia\n"
          ]
        }
      ]
    },
    {
      "cell_type": "code",
      "source": [
        "nome2 = input(\"digite seu nome: \")"
      ],
      "metadata": {
        "colab": {
          "base_uri": "https://localhost:8080/"
        },
        "id": "iNkDaJi-jc_5",
        "outputId": "87c96d7f-ac7a-4c25-9c4d-8918f54f5e71"
      },
      "execution_count": 28,
      "outputs": [
        {
          "name": "stdout",
          "output_type": "stream",
          "text": [
            "digite seu nome: vitoria\n"
          ]
        }
      ]
    },
    {
      "cell_type": "code",
      "source": [
        "print(f\"hoje estamos com {nome1} e {nome2} para alegrar o dia!\")"
      ],
      "metadata": {
        "colab": {
          "base_uri": "https://localhost:8080/"
        },
        "id": "8dmGjA-ojkJn",
        "outputId": "0bffd626-1b04-469c-ac6a-c066f6b45c1e"
      },
      "execution_count": 30,
      "outputs": [
        {
          "output_type": "stream",
          "name": "stdout",
          "text": [
            "hoje estamos com leticia e vitoria para alegrar o dia!\n"
          ]
        }
      ]
    },
    {
      "cell_type": "code",
      "source": [
        "idade1 = input(\"digite sua idade: \")"
      ],
      "metadata": {
        "colab": {
          "base_uri": "https://localhost:8080/"
        },
        "id": "AvoAANTykUUY",
        "outputId": "01a0da30-94a9-477f-ac76-edc02e52b67c"
      },
      "execution_count": 37,
      "outputs": [
        {
          "name": "stdout",
          "output_type": "stream",
          "text": [
            "digite sua idade: 18\n"
          ]
        }
      ]
    },
    {
      "cell_type": "code",
      "source": [
        "if int(idade1) >= 18:\n",
        "   print(\"voce é maior de idade!\")\n",
        "   print(\"voce pode entrar!\")\n",
        "else:\n",
        "\n",
        "   print(\"voce é menor de idade!\")\n",
        "   print(\"voce não pode entrar!\")\n"
      ],
      "metadata": {
        "colab": {
          "base_uri": "https://localhost:8080/"
        },
        "id": "8QyGpbBpkwii",
        "outputId": "bbe3f9ca-1a00-4798-a115-0b130c37f9e1"
      },
      "execution_count": 41,
      "outputs": [
        {
          "output_type": "stream",
          "name": "stdout",
          "text": [
            "voce é maior de idade!\n",
            "voce pode entrar!\n"
          ]
        }
      ]
    },
    {
      "cell_type": "code",
      "source": [
        "def verificar_idade(idade1):\n",
        "   if int(idade1) >= 18:\n",
        "       print(\"voce é maior de idade!\")\n",
        "       print(\"voce pode entrar!\")\n",
        "   else:\n",
        "      print(\"voce é menor de idade!\")\n",
        "      print(\"voce não pode entrar!\")"
      ],
      "metadata": {
        "id": "gD7B5cCgoZBj"
      },
      "execution_count": 42,
      "outputs": []
    },
    {
      "cell_type": "code",
      "source": [
        "verificar_idade(17)"
      ],
      "metadata": {
        "colab": {
          "base_uri": "https://localhost:8080/"
        },
        "id": "Djb9e0suplcT",
        "outputId": "a0eda87a-a806-4f03-f326-72eddb528be8"
      },
      "execution_count": 44,
      "outputs": [
        {
          "output_type": "stream",
          "name": "stdout",
          "text": [
            "voce é menor de idade!\n",
            "voce não pode entrar!\n"
          ]
        }
      ]
    },
    {
      "cell_type": "code",
      "source": [
        "contador = 0\n",
        "\n",
        "while contador < 10:\n",
        "    print(f\"contagem: {contador}\")\n",
        "    contador = contador +2\n",
        "\n",
        "print(\"contagem finalizada!\")"
      ],
      "metadata": {
        "colab": {
          "base_uri": "https://localhost:8080/"
        },
        "id": "HLGMOuTbroP7",
        "outputId": "c806f945-456a-4faf-cd9f-652db04d4d5a"
      },
      "execution_count": 49,
      "outputs": [
        {
          "output_type": "stream",
          "name": "stdout",
          "text": [
            "contagem: 0\n",
            "contagem: 2\n",
            "contagem: 4\n",
            "contagem: 6\n",
            "contagem: 8\n",
            "contagem finalizada!\n"
          ]
        }
      ]
    },
    {
      "cell_type": "code",
      "source": [
        "modelos = [\"porsche\", \"ferrari\", \"bmw\"]"
      ],
      "metadata": {
        "id": "p4o9mQIhtUtO"
      },
      "execution_count": 50,
      "outputs": []
    },
    {
      "cell_type": "code",
      "source": [
        "modelos"
      ],
      "metadata": {
        "colab": {
          "base_uri": "https://localhost:8080/"
        },
        "id": "o-nPO-0UtzYD",
        "outputId": "5ff8b67f-b512-4366-b14b-3566aa64dda6"
      },
      "execution_count": 51,
      "outputs": [
        {
          "output_type": "execute_result",
          "data": {
            "text/plain": [
              "['porsche', 'ferrari', 'bmw']"
            ]
          },
          "metadata": {},
          "execution_count": 51
        }
      ]
    },
    {
      "cell_type": "code",
      "source": [
        "for modelo in modelos:\n",
        "    print(modelo)"
      ],
      "metadata": {
        "colab": {
          "base_uri": "https://localhost:8080/"
        },
        "id": "kHYQaKUFt2CW",
        "outputId": "1bc74844-42a1-4ba2-c664-09c70edb3a6e"
      },
      "execution_count": 55,
      "outputs": [
        {
          "output_type": "stream",
          "name": "stdout",
          "text": [
            "porsche\n",
            "ferrari\n",
            "bmw\n"
          ]
        }
      ]
    }
  ]
}